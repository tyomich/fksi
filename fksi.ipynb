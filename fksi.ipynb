{
 "cells": [
  {
   "cell_type": "code",
   "execution_count": null,
   "id": "ff609b44",
   "metadata": {},
   "outputs": [],
   "source": [
    "from fksi import *\n",
    "import time\n",
    "import matplotlib.pyplot as plt"
   ]
  },
  {
   "cell_type": "code",
   "execution_count": null,
   "id": "38d42c5e",
   "metadata": {},
   "outputs": [],
   "source": [
    "import time\n",
    "import matplotlib.pyplot as plt"
   ]
  },
  {
   "cell_type": "code",
   "execution_count": null,
   "id": "9a1b8b96",
   "metadata": {},
   "outputs": [],
   "source": [
    "#Suvorov+ 202 appendix Table for the test phase, prints out time and accuracy relative to value with 1e-20 precition\n",
    "y, w, its=2.,3., 10 #the last value being the number of repetitions when timing\n",
    "uet=1e-20\n",
    "X=1.\n",
    "res=1000\n",
    "xd=np.linspace(0, X, res+1)\n",
    "for alpha in [0, 0.5, 1]:\n",
    "    fd=1/(1+xd**2+alpha*xd**4)-1/(1+X**2+alpha*X**4)\n",
    "    for o in [1,2]:\n",
    "        ur=fksi(y, w, xd, fd, uet, o=o)\n",
    "        et=1e-5\n",
    "        start=time.time()\n",
    "        for iterator in range(its):\n",
    "            result=fksi(y, w, xd, fd, et, o=o)\n",
    "        t0=(time.time()-start)/its\n",
    "        print(t0, alpha, o, et, np.abs(result/ur-1))\n",
    "        for et in [1e-10, 1e-15]:\n",
    "            start=time.time()\n",
    "            for iterator in range(its):\n",
    "                result=fksi(y, w, xd, fd, et, o=o)\n",
    "            print((time.time()-start)/its, alpha, o, et, np.abs(result/ur-1))"
   ]
  },
  {
   "cell_type": "code",
   "execution_count": null,
   "id": "c66980a7",
   "metadata": {},
   "outputs": [],
   "source": [
    "#Suvorov+ 2023 appendix figure as a function of observer position\n",
    "#computing\n",
    "start=time.time()\n",
    "ys=10**np.linspace(-2,2,201)\n",
    "yresult=np.array([fksi(y,w, xd, fd) for y in ys])\n",
    "print(time.time()-start, len(yresult))\n",
    "#plotting\n",
    "fontsize=12\n",
    "fig,ax=plt.subplots(figsize=2*[8])\n",
    "ax.plot(ys, np.abs(yresult), ls='-', color='black', label='|F(y, 3)|')\n",
    "ax.plot(ys, np.real(yresult), ls='--', color='blue', label='Re F(y, 3)')\n",
    "ax.plot(ys, np.imag(yresult), ls=':', color='red', label='Im F(y, 3)')\n",
    "ax.set_xscale('log'); xlim=ax.get_xlim()\n",
    "ax.plot([ys.min()/10, ys.max()*10], 2*[0], ls='-', lw=0.5, color='black')\n",
    "ax.set_xlabel('$y$', fontsize=fontsize); ax.set_ylabel('$F(y, w)$', fontsize=fontsize)\n",
    "ax.set_xlim(xlim)\n",
    "ax.legend(frameon=False, fontsize=fontsize, loc='upper left')\n",
    "#fig.savefig('yplot.png',  bbox_inches='tight')\n",
    "plt.show()"
   ]
  },
  {
   "cell_type": "code",
   "execution_count": null,
   "id": "9805df9a",
   "metadata": {},
   "outputs": [],
   "source": [
    "#Suvorov+ 2023 appendix figure as a function of frequency\n",
    "#computing\n",
    "start=time.time()\n",
    "ws=10**np.linspace(-2,2,401)\n",
    "wresult=np.array([fksi(y,w, xd, fd) for w in ws])\n",
    "print(time.time()-start, len(wresult))\n",
    "#plotting\n",
    "fontsize=12\n",
    "fig,ax=plt.subplots(figsize=2*[8])\n",
    "ax.plot(ws, np.abs(wresult)-1, ls='-', color='black', label='|F(2, w)|-1')\n",
    "ax.plot(ws, np.real(wresult)-1, ls='--', color='blue', label='Re F(2, w)-1')\n",
    "ax.plot(ws, np.imag(wresult), ls=':', color='red', label='Im F(2, w)')\n",
    "ax.set_xscale('log'); xlim=ax.get_xlim()\n",
    "ax.plot([ws.min()/10, ws.max()*10], 2*[0], ls='-', lw=0.5, color='black')\n",
    "ax.set_xlabel('$w$', fontsize=fontsize); ax.set_ylabel('$F(y, w)-1$', fontsize=fontsize)\n",
    "ax.set_xlim(xlim)\n",
    "ax.legend(frameon=False, fontsize=fontsize, loc='upper left')\n",
    "#fig.savefig('wplot.png',  bbox_inches='tight')\n",
    "plt.show()"
   ]
  },
  {
   "cell_type": "code",
   "execution_count": null,
   "id": "2fd24338",
   "metadata": {},
   "outputs": [],
   "source": []
  }
 ],
 "metadata": {
  "kernelspec": {
   "display_name": "Python 3 (ipykernel)",
   "language": "python",
   "name": "python3"
  },
  "language_info": {
   "codemirror_mode": {
    "name": "ipython",
    "version": 3
   },
   "file_extension": ".py",
   "mimetype": "text/x-python",
   "name": "python",
   "nbconvert_exporter": "python",
   "pygments_lexer": "ipython3",
   "version": "3.9.12"
  }
 },
 "nbformat": 4,
 "nbformat_minor": 5
}
